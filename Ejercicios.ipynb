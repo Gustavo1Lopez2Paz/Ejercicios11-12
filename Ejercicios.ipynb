{
 "cells": [
  {
   "cell_type": "markdown",
   "metadata": {},
   "source": [
    "# Explicación y resolución de los ejercicios 11 y 12"
   ]
  },
  {
   "cell_type": "markdown",
   "metadata": {},
   "source": [
    "## Ejercicio 11\n",
    "**Parque vehicular.** La Ciudad de México tiene placas de automóviles con tres números seguidos\n",
    "por tres letras, es decir, son placas del tipo 999-AAA. Sin embargo, no pueden empezar con 0\n",
    "(cero) ni se utilizan las letras I, O, Q y Ñ."
   ]
  },
  {
   "cell_type": "markdown",
   "metadata": {},
   "source": [
    "**a) ¿Cuántas placas diferentes son posibles?**\n",
    "Dado el siguiente problema:\n",
    "\n",
    "- No existe condición de repetición de números o letras, excepto que el número inicial no debe ser cero y no debe contener los dígitos I, O, Q y Ñ.\n",
    "- Para el primer espacio, hay 9 números disponibles (del 1 al 9).\n",
    "- Para los dos espacios siguientes, hay 10 números disponibles (del 0 al 9), uno en cada espacio.\n",
    "- Para los últimos tres espacios, hay 23 letras disponibles (del A al Z, excepto I, O, Q y Ñ), y se utilizará una letra en cada espacio.\n",
    "\n",
    "Para formar el patrón con números en los primeros tres espacios:\n",
    "$$\n",
    "\\begin{align}\n",
    "    9 \\cdot 10 \\cdot 10 = 900\n",
    "\\end{align}\n",
    "$$\n",
    "\n",
    "Para formar el patrón con letras en los últimos tres espacios:\n",
    "$$\n",
    "\\begin{align}\n",
    "    23 \\cdot 23 \\cdot 23 = 12,167\n",
    "\\end{align}\n",
    "$$\n",
    "\n",
    "Multiplicando el total de patrones de números y letras:\n",
    "$$\n",
    "\\begin{align}\n",
    "    900 \\cdot 12,167 = 10,950,300\n",
    "\\end{align}\n",
    "$$\n",
    "\n",
    "Teniendo un total de **10,950,300** placas diferentes posibles"
   ]
  },
  {
   "cell_type": "markdown",
   "metadata": {},
   "source": [
    "**b) ¿Cuántas placas diferentes terminan en vocal?**\n",
    "\n",
    "Para conocer el total de placas que terminan en vocal, utilizaremos los mismos procedimientos que se usaron en el inciso anterior, pero cambiando la fórmula del patrón de letras ya que se aplica para todas las letras en los tres espacios. El total de vocales que existen son cinco (a, e, i, o, u), por lo tanto, la fórmula del patrón queda de la siguiente manera:\n",
    "\n",
    "El patrón cambia al multiplicar el total de letras que se pueden usar en los dos espacios disponibles, mientras que para el último espacio solo aplicamos las vocales, obteniendo lo siguiente:\n",
    "$$\n",
    "\\begin{align}\n",
    "    23 \\cdot 23 \\cdot 5 = 2,645\n",
    "\\end{align}\n",
    "$$\n",
    "\n",
    "Utilizando el mismo resultado del patrón de los números, ahora multiplicamos por el resultado del patrón con terminación en vocal:\n",
    "\n",
    "$$\n",
    "\\begin{align}\n",
    "    900 \\cdot 2,645 = 2,380,500\n",
    "\\end{align}\n",
    "$$\n",
    "\n",
    "Teniendo un total de **2,380,500** placas que terminan en vocal."
   ]
  },
  {
   "cell_type": "markdown",
   "metadata": {},
   "source": [
    "**c) ¿Cuál es la probabilidad de que una placa, elegida al azar, sea impar?**"
   ]
  },
  {
   "cell_type": "markdown",
   "metadata": {},
   "source": [
    "Este problema tiene similitudes al anterior, sin embargo, ahora se desea conocer la probabilidad de escoger una placa y que esta sea impar.\n",
    "\n",
    "Primero, deseamos obtener el total de placas que en el tercer espacio de los números sea impar. Para ello, modificamos el patrón de los números:\n",
    "$$\n",
    "\\begin{align}\n",
    "    9 \\cdot 10 \\cdot 5 = 450\n",
    "\\end{align}\n",
    "$$\n",
    "\n",
    "Ahora, multiplicamos este patrón por el patrón con el total de letras, que pertenece al inciso a):\n",
    "$$\n",
    "\\begin{align}\n",
    "    450 \\cdot 12,167 = 5,475,150\n",
    "\\end{align}\n",
    "$$\n",
    "\n",
    "Teniendo un total de **5,475,150** placas que son impares.\n",
    "\n",
    "Finalmente, para calcular la probabilidad de tomar una de estas placas, dividimos el total de placas con número impar entre el total de placas que se obtuvieron en el inciso a):\n",
    "$$\n",
    "\\begin{align}\n",
    "    P = \\dfrac{5,475,150}{10,950,300} = 0.5\n",
    "\\end{align}\n",
    "$$\n",
    "Por lo tanto, la probabilidad de elegir al azar una placa que sea impar es del **50%**."
   ]
  },
  {
   "cell_type": "code",
   "execution_count": 2,
   "metadata": {},
   "outputs": [
    {
     "name": "stdout",
     "output_type": "stream",
     "text": [
      "a) Número total de placas diferentes: 10950300\n"
     ]
    }
   ],
   "source": [
    "# Solución en codigó del ejercicio del inciso a\n",
    "import math as m\n",
    "num_numbers = 9 * 10 * 10\n",
    "letters = 23 ** 3\n",
    "total_plates = num_numbers * letters\n",
    "print(f\"a) Número total de placas diferentes: {total_plates}\")"
   ]
  },
  {
   "cell_type": "code",
   "execution_count": 3,
   "metadata": {},
   "outputs": [
    {
     "name": "stdout",
     "output_type": "stream",
     "text": [
      "b) Número de placas que terminan en vocal: 2380500\n"
     ]
    }
   ],
   "source": [
    "# Solución en codigó del ejercicio del inciso b\n",
    "vowels = ['A', 'E','I', 'O', 'U']\n",
    "num_consonants = (23 ** 2) * 5\n",
    "num_plates_with_vowel = num_numbers * num_consonants \n",
    "print(f\"b) Número de placas que terminan en vocal: {num_plates_with_vowel}\")"
   ]
  },
  {
   "cell_type": "code",
   "execution_count": 4,
   "metadata": {},
   "outputs": [
    {
     "name": "stdout",
     "output_type": "stream",
     "text": [
      "c) Probabilidad de que una placa sea impar: 0.5%\n"
     ]
    }
   ],
   "source": [
    "# Solución en codigó del ejercicio del inciso c\n",
    "impar_digits = 9 * 10 * 5\n",
    "total_placas_impares = impar_digits * letters\n",
    "probabilidad_placas_impares = total_placas_impares / total_plates\n",
    "print(f\"c) Probabilidad de que una placa sea impar: {probabilidad_placas_impares}%\")"
   ]
  },
  {
   "cell_type": "markdown",
   "metadata": {},
   "source": [
    "# Ejercicio 12\n",
    "\n",
    "**Servicios restauranteros.** Una cadena de hamburguesas anuncia que se ofrecen 512 maneras de pedir una hamburguesa. Un cliente puede elegir cualquiera de estos ingredientes: cátsup, mostaza, mayonesa, aderezo de la casa, cebolla, pepinillos, jitomate, tocino y lechuga.\n"
   ]
  },
  {
   "cell_type": "markdown",
   "metadata": {},
   "source": [
    "**¿Crees que lo que afirma la empresa sea cierto?** Justifica tu respuesta."
   ]
  }
 ],
 "metadata": {
  "kernelspec": {
   "display_name": "Python 3",
   "language": "python",
   "name": "python3"
  },
  "language_info": {
   "codemirror_mode": {
    "name": "ipython",
    "version": 3
   },
   "file_extension": ".py",
   "mimetype": "text/x-python",
   "name": "python",
   "nbconvert_exporter": "python",
   "pygments_lexer": "ipython3",
   "version": "3.12.0"
  }
 },
 "nbformat": 4,
 "nbformat_minor": 2
}
